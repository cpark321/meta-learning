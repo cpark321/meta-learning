{
 "cells": [
  {
   "cell_type": "code",
   "execution_count": 1,
   "metadata": {},
   "outputs": [],
   "source": [
    "import torch\n",
    "import torch.nn as nn\n",
    "import numpy as np\n",
    "\n",
    "import torchvision\n",
    "import torchvision.transforms as transforms\n",
    "from PIL import Image\n",
    "import os\n",
    "from datetime import datetime\n",
    "import sys\n",
    "from sklearn.utils import shuffle\n",
    "\n",
    "import matplotlib.pyplot as plt\n",
    "\n",
    "from omniglotDataset import OmniglotDataset\n",
    "from models import LearnerConv\n",
    "\n",
    "device = 'cuda:0'"
   ]
  },
  {
   "cell_type": "code",
   "execution_count": 2,
   "metadata": {},
   "outputs": [
    {
     "name": "stdout",
     "output_type": "stream",
     "text": [
      "== Found 32460 items \n",
      "== Found 1623 classes\n"
     ]
    }
   ],
   "source": [
    "Odset = OmniglotDataset(root='./', download=True)"
   ]
  },
  {
   "cell_type": "code",
   "execution_count": 3,
   "metadata": {},
   "outputs": [
    {
     "data": {
      "text/plain": [
       "('./processed/images_background/Armenian/character03/0029_14.png', 5)"
      ]
     },
     "execution_count": 3,
     "metadata": {},
     "output_type": "execute_result"
    }
   ],
   "source": [
    "Odset[100]"
   ]
  },
  {
   "cell_type": "code",
   "execution_count": 4,
   "metadata": {},
   "outputs": [],
   "source": [
    "X_data = Odset.getOmniglotArray()"
   ]
  },
  {
   "cell_type": "code",
   "execution_count": 5,
   "metadata": {},
   "outputs": [
    {
     "data": {
      "image/png": "[encoded data removed]",
      "text/plain": [
       "<Figure size 864x288 with 40 Axes>"
      ]
     },
     "metadata": {
      "needs_background": "light"
     },
     "output_type": "display_data"
    }
   ],
   "source": [
    "random_idx = np.random.randint(0, 1623, size=40)\n",
    "img_samples = X_data[random_idx, 0, :, :]\n",
    "\n",
    "fig = plt.figure(figsize=(12,4))\n",
    "for i, img in enumerate(img_samples):\n",
    "    ax  = fig.add_subplot(5, 8, i+1); \n",
    "    ax.imshow(img)"
   ]
  },
  {
   "cell_type": "code",
   "execution_count": 6,
   "metadata": {},
   "outputs": [
    {
     "name": "stdout",
     "output_type": "stream",
     "text": [
      "train :1200 | test:423\n"
     ]
    }
   ],
   "source": [
    "np.random.shuffle(X_data)\n",
    "X_train = X_data[:1200,:,:,:]\n",
    "X_test  = X_data[1200:,:,:,:]\n",
    "\n",
    "print(f'train :{len(X_train)} | test:{len(X_test)}')"
   ]
  },
  {
   "cell_type": "code",
   "execution_count": 7,
   "metadata": {},
   "outputs": [
    {
     "name": "stdout",
     "output_type": "stream",
     "text": [
      "(423, 20, 28, 28)\n"
     ]
    }
   ],
   "source": [
    "X_test = np.transpose(X_test, (1, 0, 2, 3))\n",
    "X_test = shuffle(X_test, random_state=0)\n",
    "X_test = np.transpose(X_test, (1, 0, 2, 3))\n",
    "print(X_test.shape)"
   ]
  },
  {
   "cell_type": "markdown",
   "metadata": {},
   "source": [
    "#### Evaluate Omniglot MAML"
   ]
  },
  {
   "cell_type": "code",
   "execution_count": 8,
   "metadata": {},
   "outputs": [],
   "source": [
    "def evaluateOmniglotMaml(num_tasks, num_points):\n",
    "    \n",
    "    if num_tasks == 5:\n",
    "        omniglot_learner = LearnerConv(N_way=5, device=device)\n",
    "\n",
    "        lr_b = 1e-4\n",
    "        criterion = nn.NLLLoss(reduction='mean')\n",
    "        optimizer = torch.optim.Adam(omniglot_learner.parameters(), lr=lr_b, betas=(0.9,0.999), eps=1e-08, weight_decay=0)\n",
    "        optimizer.zero_grad()\n",
    "        loadpath = \"trained_models/omniglot_n5_k1_lr0.2_final.pth\"\n",
    "        omniglot_learner.load_state_dict(torch.load(loadpath, map_location='cuda:0'))    \n",
    "        \n",
    "    elif num_tasks == 20:\n",
    "        omniglot_learner = LearnerConv(N_way=20, device=device)\n",
    "\n",
    "        lr_b = 1e-4\n",
    "        criterion = nn.NLLLoss(reduction='mean')\n",
    "        optimizer = torch.optim.Adam(omniglot_learner.parameters(), lr=lr_b, betas=(0.9,0.999), eps=1e-08, weight_decay=0)\n",
    "        optimizer.zero_grad()\n",
    "        loadpath = \"trained_models/omniglot_n20_k1_lr0.2_final.pth\"\n",
    "        omniglot_learner.load_state_dict(torch.load(loadpath, map_location='cuda:0'))            \n",
    "        \n",
    "    else:\n",
    "        print('Invalid N-way parameter. N should be 5 or 20')\n",
    "        return\n",
    "    \n",
    "    num_grad_update = 1  # for evaluation\n",
    "    batch_size      = num_tasks*num_points\n",
    "    lr_a            = 0.2\n",
    "\n",
    "    eval_num_points = 20-num_points # each char has 20 instaces\n",
    "    eval_batch_size = num_tasks * eval_num_points\n",
    "\n",
    "\n",
    "    num_eval_char   = X_test.shape[0]\n",
    "    num_iterations  = int(num_eval_char/num_tasks)\n",
    "\n",
    "    criterion = nn.NLLLoss(reduction='mean')\n",
    "    optimizer = torch.optim.SGD(omniglot_learner.parameters(), lr=lr_a, momentum=0.0)\n",
    "    optimizer.zero_grad()\n",
    "\n",
    "    idx = 0\n",
    "    count_correct_pred = 0\n",
    "    count_total_pred   = 0\n",
    "\n",
    "\n",
    "    for iter in range(num_iterations):\n",
    "        # 1. for task_i consisting of characters of [idx, idx+num_tasks)\n",
    "        omniglot_learner.load_state_dict(torch.load(loadpath, map_location='cuda:0'))\n",
    "\n",
    "        # 2. update the gradient 'num_grad_update' times\n",
    "        X_batch = np.zeros((batch_size, 28, 28))\n",
    "        Y_batch = np.zeros((batch_size))\n",
    "\n",
    "        for k in range(num_tasks):\n",
    "            X_batch[k*num_points:(k+1)*num_points,:,:] = X_test[idx+k,:num_points,:,:]\n",
    "            Y_batch[k*num_points:(k+1)*num_points] = k\n",
    "\n",
    "        X_batch = torch.tensor(X_batch, dtype=torch.float32).unsqueeze(1).to(device)\n",
    "        Y_batch = torch.tensor(Y_batch, dtype=torch.long).to(device)\n",
    "\n",
    "        for j in range(num_grad_update):\n",
    "            # 2.2 compute gradient\n",
    "            Y_pred = omniglot_learner(X_batch)\n",
    "\n",
    "            loss = criterion(Y_pred, Y_batch)\n",
    "            loss.backward()\n",
    "\n",
    "            optimizer.step()\n",
    "            optimizer.zero_grad()\n",
    "\n",
    "        # 3. evaluation\n",
    "        X_batch_eval = np.zeros((eval_batch_size, 28, 28))\n",
    "        Y_batch_eval = np.zeros((eval_batch_size))\n",
    "        for k in range(num_tasks):\n",
    "            X_batch_eval[k*eval_num_points:(k+1)*eval_num_points,:,:] = X_test[idx+k,num_points:,:,:]\n",
    "            Y_batch_eval[k*eval_num_points:(k+1)*eval_num_points] = k\n",
    "\n",
    "        X_batch_eval = torch.tensor(X_batch_eval, dtype=torch.float32).unsqueeze(1).to(device)\n",
    "        Y_batch_eval = torch.tensor(Y_batch_eval, dtype=torch.long).to(device)\n",
    "\n",
    "        Y_pred_eval = omniglot_learner(X_batch_eval)\n",
    "        Y_pred_eval = Y_pred_eval.argmax(dim=-1)\n",
    "\n",
    "        corr_pred  = (Y_batch_eval == Y_pred_eval).int().sum().item()\n",
    "        total_pred = len(Y_batch_eval)\n",
    "        count_correct_pred += corr_pred\n",
    "        count_total_pred   += total_pred\n",
    "\n",
    "\n",
    "        idx += num_tasks\n",
    "\n",
    "    print(\"PREDICTION ACCURACY = {}\".format(count_correct_pred/count_total_pred))\n"
   ]
  },
  {
   "cell_type": "code",
   "execution_count": 9,
   "metadata": {},
   "outputs": [
    {
     "name": "stdout",
     "output_type": "stream",
     "text": [
      "PREDICTION ACCURACY = 0.9575187969924812\n"
     ]
    }
   ],
   "source": [
    "evaluateOmniglotMaml(5,1)"
   ]
  },
  {
   "cell_type": "code",
   "execution_count": 10,
   "metadata": {},
   "outputs": [
    {
     "name": "stdout",
     "output_type": "stream",
     "text": [
      "PREDICTION ACCURACY = 0.9337092731829574\n"
     ]
    }
   ],
   "source": [
    "evaluateOmniglotMaml(20,1)"
   ]
  },
  {
   "cell_type": "code",
   "execution_count": null,
   "metadata": {},
   "outputs": [],
   "source": []
  }
 ],
 "metadata": {
  "kernelspec": {
   "display_name": "Python [conda env:torch] *",
   "language": "python",
   "name": "conda-env-torch-py"
  },
  "language_info": {
   "codemirror_mode": {
    "name": "ipython",
    "version": 3
   },
   "file_extension": ".py",
   "mimetype": "text/x-python",
   "name": "python",
   "nbconvert_exporter": "python",
   "pygments_lexer": "ipython3",
   "version": "3.6.8"
  }
 },
 "nbformat": 4,
 "nbformat_minor": 2
}
